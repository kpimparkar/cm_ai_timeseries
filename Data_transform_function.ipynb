{
 "cells": [
  {
   "cell_type": "markdown",
   "metadata": {
    "toc": true
   },
   "source": [
    "<h1>Table of Contents<span class=\"tocSkip\"></span></h1>\n",
    "<div class=\"toc\"><ul class=\"toc-item\"></ul></div>"
   ]
  },
  {
   "cell_type": "code",
   "execution_count": 1,
   "metadata": {},
   "outputs": [],
   "source": [
    "import numpy as np\n",
    "\n",
    "v1 = np.array((1,2,3,4,5,6,7,8,9,10))\n",
    "v2 = np.array(('a','b','c','d'))"
   ]
  },
  {
   "cell_type": "code",
   "execution_count": 8,
   "metadata": {},
   "outputs": [],
   "source": [
    "def Tnew(vector1, vector2):\n",
    "    \"\"\"\n",
    "    This method retuns a vector formed by stacking vector2 after each element of vector1\n",
    "    \n",
    "    Input: Vector 1 and 2\n",
    "    Output: Vector\n",
    "    \"\"\"\n",
    "    \n",
    "    # Convert vectors to np.arrays \n",
    "    v1 = np.array(vector1)\n",
    "    v2 = np.array(vector2)\n",
    "\n",
    "    # Stack elements of vector2 after each element of vector1 and return resultant vector\n",
    "    \n",
    "    return np.hstack((v1.reshape(len(v1),1), np.repeat(v2.reshape(1,len(v2)), [len(v1)], axis=0))).flatten()"
   ]
  },
  {
   "cell_type": "code",
   "execution_count": 9,
   "metadata": {},
   "outputs": [
    {
     "data": {
      "text/plain": [
       "array(['1', 'a', 'b', 'c', 'd', '2', 'a', 'b', 'c', 'd', '3', 'a', 'b',\n",
       "       'c', 'd', '4', 'a', 'b', 'c', 'd', '5', 'a', 'b', 'c', 'd', '6',\n",
       "       'a', 'b', 'c', 'd', '7', 'a', 'b', 'c', 'd', '8', 'a', 'b', 'c',\n",
       "       'd', '9', 'a', 'b', 'c', 'd', '10', 'a', 'b', 'c', 'd'],\n",
       "      dtype='<U11')"
      ]
     },
     "execution_count": 9,
     "metadata": {},
     "output_type": "execute_result"
    }
   ],
   "source": [
    "Tnew(v1,v2)"
   ]
  },
  {
   "cell_type": "code",
   "execution_count": 11,
   "metadata": {},
   "outputs": [
    {
     "name": "stdout",
     "output_type": "stream",
     "text": [
      "Wall time: 935 µs\n"
     ]
    }
   ],
   "source": [
    "%%time\n",
    "v1 = np.arange(1000)\n",
    "v2 = np.arange(20)\n",
    "\n",
    "out = Tnew(v1,v2)"
   ]
  },
  {
   "cell_type": "code",
   "execution_count": 12,
   "metadata": {},
   "outputs": [
    {
     "data": {
      "text/plain": [
       "(21000,)"
      ]
     },
     "execution_count": 12,
     "metadata": {},
     "output_type": "execute_result"
    }
   ],
   "source": [
    "out.shape"
   ]
  },
  {
   "cell_type": "code",
   "execution_count": 13,
   "metadata": {},
   "outputs": [
    {
     "name": "stdout",
     "output_type": "stream",
     "text": [
      "80.5 µs ± 5.32 µs per loop (mean ± std. dev. of 7 runs, 10000 loops each)\n"
     ]
    }
   ],
   "source": [
    "%%timeit\n",
    "v1 = np.arange(1000)\n",
    "v2 = np.arange(20)\n",
    "\n",
    "out = Tnew(v1,v2)"
   ]
  }
 ],
 "metadata": {
  "kernelspec": {
   "display_name": "ENV3",
   "language": "python",
   "name": "env3"
  },
  "language_info": {
   "codemirror_mode": {
    "name": "ipython",
    "version": 3
   },
   "file_extension": ".py",
   "mimetype": "text/x-python",
   "name": "python",
   "nbconvert_exporter": "python",
   "pygments_lexer": "ipython3",
   "version": "3.7.4"
  },
  "toc": {
   "base_numbering": 1,
   "nav_menu": {},
   "number_sections": true,
   "sideBar": true,
   "skip_h1_title": true,
   "title_cell": "Table of Contents",
   "title_sidebar": "Contents",
   "toc_cell": true,
   "toc_position": {},
   "toc_section_display": true,
   "toc_window_display": false
  }
 },
 "nbformat": 4,
 "nbformat_minor": 2
}
